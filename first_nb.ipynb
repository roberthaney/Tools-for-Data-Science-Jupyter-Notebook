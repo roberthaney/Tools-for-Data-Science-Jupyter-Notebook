{
 "cells": [
  {
   "cell_type": "markdown",
   "id": "24e1f6e2",
   "metadata": {},
   "source": [
    "# A first Jupyter notebook (but not on Watson Studio)"
   ]
  },
  {
   "cell_type": "markdown",
   "id": "3ca1bee0",
   "metadata": {},
   "source": [
    "<b>Rob Haney</b>\n",
    "\n",
    "Occupation unknown"
   ]
  },
  {
   "cell_type": "markdown",
   "id": "d613a1a4",
   "metadata": {},
   "source": [
    "<i>Data is important as it is where the evidence comes from.</i>"
   ]
  },
  {
   "cell_type": "code",
   "execution_count": null,
   "id": "26c74cef",
   "metadata": {},
   "outputs": [],
   "source": [
    "### The code below prints an important message from a a list of words"
   ]
  },
  {
   "cell_type": "code",
   "execution_count": 1,
   "id": "d58c10bb-1c28-40ae-80cb-569e4695b65d",
   "metadata": {},
   "outputs": [
    {
     "name": "stdout",
     "output_type": "stream",
     "text": [
      "Hello\n",
      "world\n"
     ]
    }
   ],
   "source": [
    "message = [\"Hello\", \"world\"]\n",
    "for item in message:\n",
    "    print(item)"
   ]
  },
  {
   "cell_type": "markdown",
   "id": "f1ed614a",
   "metadata": {},
   "source": [
    "<ul>\n",
    "    <li>Bosmina</li>\n",
    "    <li>Daphnia</li>\n",
    "    <li>Bosminopsis</li>\n",
    "</ul>\n",
    "<ol>\n",
    "    <li>Argiope</li>\n",
    "    <li>Habronattus</li>\n",
    "    <li>Steatoda</li>\n",
    "</ol>\n",
    "<hr>\n",
    "<blockquote>What a terrible way for this notebook to end</blockquote>"
   ]
  }
 ],
 "metadata": {
  "kernelspec": {
   "display_name": "Python 3 (ipykernel)",
   "language": "python",
   "name": "python3"
  },
  "language_info": {
   "codemirror_mode": {
    "name": "ipython",
    "version": 3
   },
   "file_extension": ".py",
   "mimetype": "text/x-python",
   "name": "python",
   "nbconvert_exporter": "python",
   "pygments_lexer": "ipython3",
   "version": "3.9.7"
  }
 },
 "nbformat": 4,
 "nbformat_minor": 5
}
